{
 "cells": [
  {
   "cell_type": "code",
   "execution_count": 2,
   "metadata": {},
   "outputs": [
    {
     "data": {
      "application/javascript": [
       "\n",
       "            setTimeout(function() {\n",
       "                var nbb_cell_id = 2;\n",
       "                var nbb_unformatted_code = \"%matplotlib widget\\n%load_ext nb_black\\n\\nimport os\\nimport sys\\nfrom tqdm.notebook import tqdm\\n\\nfrom ase import io\\nimport MDAnalysis as mdanalysis\\n\\nsys.path.append(\\\"../\\\")\\nfrom confined_water import analysis\\nfrom confined_water import hydrogen_bonding\";\n",
       "                var nbb_formatted_code = \"%matplotlib widget\\n%load_ext nb_black\\n\\nimport os\\nimport sys\\nfrom tqdm.notebook import tqdm\\n\\nfrom ase import io\\nimport MDAnalysis as mdanalysis\\n\\nsys.path.append(\\\"../\\\")\\nfrom confined_water import analysis\\nfrom confined_water import hydrogen_bonding\";\n",
       "                var nbb_cells = Jupyter.notebook.get_cells();\n",
       "                for (var i = 0; i < nbb_cells.length; ++i) {\n",
       "                    if (nbb_cells[i].input_prompt_number == nbb_cell_id) {\n",
       "                        if (nbb_cells[i].get_text() == nbb_unformatted_code) {\n",
       "                             nbb_cells[i].set_text(nbb_formatted_code);\n",
       "                        }\n",
       "                        break;\n",
       "                    }\n",
       "                }\n",
       "            }, 500);\n",
       "            "
      ],
      "text/plain": [
       "<IPython.core.display.Javascript object>"
      ]
     },
     "metadata": {},
     "output_type": "display_data"
    }
   ],
   "source": [
    "%matplotlib widget\n",
    "%load_ext nb_black\n",
    "\n",
    "import os\n",
    "import sys\n",
    "from tqdm.notebook import tqdm\n",
    "\n",
    "from ase import io\n",
    "import MDAnalysis as mdanalysis\n",
    "\n",
    "sys.path.append(\"../\")\n",
    "from confined_water import analysis\n",
    "from confined_water import hydrogen_bonding\n",
    "\n"
   ]
  },
  {
   "cell_type": "markdown",
   "metadata": {},
   "source": [
    "## Overview"
   ]
  },
  {
   "cell_type": "markdown",
   "metadata": {},
   "source": [
    "Here, we show two ways for performing a hydrogen bonding analysis for bulk water:\n",
    "* As part of the larger framework provided by this analysis code\n",
    "* As stand-alone code just based on MDAnalysis and ASE.\n"
   ]
  },
  {
   "cell_type": "markdown",
   "metadata": {},
   "source": [
    "## Within the confined-water analysis code"
   ]
  },
  {
   "cell_type": "code",
   "execution_count": 3,
   "metadata": {},
   "outputs": [
    {
     "name": "stdout",
     "output_type": "stream",
     "text": [
      "Using the topology from ../tests/files/bulk_water/classical/revPBE0-D3-w64-T300K-1bar.pdb.\n",
      "Creating universes for 1 trajectories.\n",
      "SUCCESS: New sampling times.\n",
      "Start time: \t \t0 \t fs\n",
      "End time: \t \t2100 \t fs\n",
      "Time between frames: \t20 \t fs\n",
      "Frame frequency: \t1\n"
     ]
    },
    {
     "name": "stderr",
     "output_type": "stream",
     "text": [
      "/Users/fthiemann/.pyenv/versions/3.9.1/lib/python3.9/site-packages/MDAnalysis/topology/base.py:203: DeprecationWarning: `np.int` is a deprecated alias for the builtin `int`. To silence this warning, use `int` by itself. Doing this will not modify any behavior and is safe. When replacing `np.int`, you may wish to use e.g. `np.int64` or `np.int32` to specify the precision. If you wish to review your current use, check the release note link for additional information.\n",
      "Deprecated in NumPy 1.20; for more details and guidance: https://numpy.org/devdocs/release/1.20.0-notes.html#deprecations\n",
      "  residx = np.zeros_like(criteria[0], dtype=np.int)\n",
      "/Users/fthiemann/.pyenv/versions/3.9.1/lib/python3.9/site-packages/MDAnalysis/core/selection.py:521: DeprecationWarning: `np.bool` is a deprecated alias for the builtin `bool`. To silence this warning, use `bool` by itself. Doing this will not modify any behavior and is safe. If you specifically wanted the numpy scalar type, use `np.bool_` here.\n",
      "Deprecated in NumPy 1.20; for more details and guidance: https://numpy.org/devdocs/release/1.20.0-notes.html#deprecations\n",
      "  mask = np.zeros(len(group), dtype=np.bool)\n"
     ]
    },
    {
     "data": {
      "application/vnd.jupyter.widget-view+json": {
       "model_id": "08d3ac44b98248d7b9e35950c6201ad7",
       "version_major": 2,
       "version_minor": 0
      },
      "text/plain": [
       "  0%|          | 0/105 [00:00<?, ?it/s]"
      ]
     },
     "metadata": {},
     "output_type": "display_data"
    },
    {
     "name": "stderr",
     "output_type": "stream",
     "text": [
      "/Users/fthiemann/.pyenv/versions/3.9.1/lib/python3.9/site-packages/ase/utils/__init__.py:41: FutureWarning: Please use atoms.cell.cellpar() instead\n",
      "  warnings.warn(warning)\n"
     ]
    },
    {
     "data": {
      "application/javascript": [
       "\n",
       "            setTimeout(function() {\n",
       "                var nbb_cell_id = 3;\n",
       "                var nbb_unformatted_code = \"# define path to trajectory directory\\npath = \\\"../tests/files/bulk_water/classical\\\"\\n\\n# specify topology name if necessary (multiple pdb files)\\ntopology_name = \\\"revPBE0-D3-w64-T300K-1bar\\\"\\n\\n# create instance of analysis.Simulation class\\nsimulation = analysis.Simulation(path)\\n\\n# read in positions based on topology file\\nsimulation.read_in_simulation_data(\\n    read_positions=True, topology_file_name=topology_name\\n)\\n\\n# set preferred sampling times and define time between frames\\nsimulation.set_sampling_times(\\n    start_time=0, end_time=-1, frame_frequency=1, time_between_frames=20\\n)\\n\\n# set which directions are periodic\\nsimulation.set_pbc_dimensions(\\\"xyz\\\")\\n\\n# perform analysis\\nsimulation.set_up_hydrogen_bonding_analysis()\";\n",
       "                var nbb_formatted_code = \"# define path to trajectory directory\\npath = \\\"../tests/files/bulk_water/classical\\\"\\n\\n# specify topology name if necessary (multiple pdb files)\\ntopology_name = \\\"revPBE0-D3-w64-T300K-1bar\\\"\\n\\n# create instance of analysis.Simulation class\\nsimulation = analysis.Simulation(path)\\n\\n# read in positions based on topology file\\nsimulation.read_in_simulation_data(\\n    read_positions=True, topology_file_name=topology_name\\n)\\n\\n# set preferred sampling times and define time between frames\\nsimulation.set_sampling_times(\\n    start_time=0, end_time=-1, frame_frequency=1, time_between_frames=20\\n)\\n\\n# set which directions are periodic\\nsimulation.set_pbc_dimensions(\\\"xyz\\\")\\n\\n# perform analysis\\nsimulation.set_up_hydrogen_bonding_analysis()\";\n",
       "                var nbb_cells = Jupyter.notebook.get_cells();\n",
       "                for (var i = 0; i < nbb_cells.length; ++i) {\n",
       "                    if (nbb_cells[i].input_prompt_number == nbb_cell_id) {\n",
       "                        if (nbb_cells[i].get_text() == nbb_unformatted_code) {\n",
       "                             nbb_cells[i].set_text(nbb_formatted_code);\n",
       "                        }\n",
       "                        break;\n",
       "                    }\n",
       "                }\n",
       "            }, 500);\n",
       "            "
      ],
      "text/plain": [
       "<IPython.core.display.Javascript object>"
      ]
     },
     "metadata": {},
     "output_type": "display_data"
    }
   ],
   "source": [
    "# define path to trajectory directory\n",
    "path = \"../tests/files/bulk_water/classical\"\n",
    "\n",
    "# specify topology name if necessary (multiple pdb files)\n",
    "topology_name = \"revPBE0-D3-w64-T300K-1bar\"\n",
    "\n",
    "# create instance of analysis.Simulation class\n",
    "simulation = analysis.Simulation(path)\n",
    "\n",
    "# read in positions based on topology file\n",
    "simulation.read_in_simulation_data(\n",
    "    read_positions=True, topology_file_name=topology_name\n",
    ")\n",
    "\n",
    "# set preferred sampling times and define time between frames\n",
    "simulation.set_sampling_times(\n",
    "    start_time=0, end_time=-1, frame_frequency=1, time_between_frames=20\n",
    ")\n",
    "\n",
    "# set which directions are periodic\n",
    "simulation.set_pbc_dimensions(\"xyz\")\n",
    "\n",
    "# perform analysis\n",
    "simulation.set_up_hydrogen_bonding_analysis()"
   ]
  },
  {
   "cell_type": "code",
   "execution_count": 4,
   "metadata": {},
   "outputs": [
    {
     "data": {
      "text/html": [
       "<div>\n",
       "<style scoped>\n",
       "    .dataframe tbody tr th:only-of-type {\n",
       "        vertical-align: middle;\n",
       "    }\n",
       "\n",
       "    .dataframe tbody tr th {\n",
       "        vertical-align: top;\n",
       "    }\n",
       "\n",
       "    .dataframe thead th {\n",
       "        text-align: right;\n",
       "    }\n",
       "</style>\n",
       "<table border=\"1\" class=\"dataframe\">\n",
       "  <thead>\n",
       "    <tr style=\"text-align: right;\">\n",
       "      <th></th>\n",
       "      <th>Time</th>\n",
       "      <th>Donor atom ID</th>\n",
       "      <th>Acceptor atom ID</th>\n",
       "      <th>Donor molecule ID</th>\n",
       "      <th>Acceptor molecule ID</th>\n",
       "      <th>Distance between oxygens</th>\n",
       "      <th>Delta distance</th>\n",
       "      <th>angle OOH</th>\n",
       "      <th>Donor molecule x</th>\n",
       "      <th>Donor molecule y</th>\n",
       "      <th>Donor molecule z</th>\n",
       "      <th>Acceptor molecule x</th>\n",
       "      <th>Acceptor molecule y</th>\n",
       "      <th>Acceptor molecule z</th>\n",
       "    </tr>\n",
       "  </thead>\n",
       "  <tbody>\n",
       "    <tr>\n",
       "      <th>0</th>\n",
       "      <td>0.0</td>\n",
       "      <td>2</td>\n",
       "      <td>58</td>\n",
       "      <td>1</td>\n",
       "      <td>20</td>\n",
       "      <td>2.925670</td>\n",
       "      <td>-1.064862</td>\n",
       "      <td>20.899380</td>\n",
       "      <td>9.089000</td>\n",
       "      <td>6.305000</td>\n",
       "      <td>10.411000</td>\n",
       "      <td>10.438000</td>\n",
       "      <td>3.877000</td>\n",
       "      <td>9.492000</td>\n",
       "    </tr>\n",
       "    <tr>\n",
       "      <th>1</th>\n",
       "      <td>0.0</td>\n",
       "      <td>6</td>\n",
       "      <td>73</td>\n",
       "      <td>2</td>\n",
       "      <td>25</td>\n",
       "      <td>3.188257</td>\n",
       "      <td>-1.326750</td>\n",
       "      <td>13.919250</td>\n",
       "      <td>11.734000</td>\n",
       "      <td>6.869000</td>\n",
       "      <td>5.944000</td>\n",
       "      <td>8.878000</td>\n",
       "      <td>6.174000</td>\n",
       "      <td>4.709000</td>\n",
       "    </tr>\n",
       "    <tr>\n",
       "      <th>2</th>\n",
       "      <td>0.0</td>\n",
       "      <td>8</td>\n",
       "      <td>175</td>\n",
       "      <td>3</td>\n",
       "      <td>59</td>\n",
       "      <td>2.971091</td>\n",
       "      <td>-1.170935</td>\n",
       "      <td>27.177565</td>\n",
       "      <td>10.911000</td>\n",
       "      <td>2.871000</td>\n",
       "      <td>4.272000</td>\n",
       "      <td>12.339000</td>\n",
       "      <td>1.281000</td>\n",
       "      <td>6.336000</td>\n",
       "    </tr>\n",
       "    <tr>\n",
       "      <th>3</th>\n",
       "      <td>0.0</td>\n",
       "      <td>9</td>\n",
       "      <td>172</td>\n",
       "      <td>3</td>\n",
       "      <td>58</td>\n",
       "      <td>2.812382</td>\n",
       "      <td>-0.873001</td>\n",
       "      <td>4.985427</td>\n",
       "      <td>10.911000</td>\n",
       "      <td>2.871000</td>\n",
       "      <td>4.272000</td>\n",
       "      <td>9.420000</td>\n",
       "      <td>3.443000</td>\n",
       "      <td>6.587000</td>\n",
       "    </tr>\n",
       "    <tr>\n",
       "      <th>4</th>\n",
       "      <td>0.0</td>\n",
       "      <td>12</td>\n",
       "      <td>40</td>\n",
       "      <td>4</td>\n",
       "      <td>14</td>\n",
       "      <td>3.207564</td>\n",
       "      <td>-1.431083</td>\n",
       "      <td>28.880138</td>\n",
       "      <td>6.946000</td>\n",
       "      <td>4.253000</td>\n",
       "      <td>5.745000</td>\n",
       "      <td>7.082000</td>\n",
       "      <td>5.819000</td>\n",
       "      <td>2.949000</td>\n",
       "    </tr>\n",
       "    <tr>\n",
       "      <th>...</th>\n",
       "      <td>...</td>\n",
       "      <td>...</td>\n",
       "      <td>...</td>\n",
       "      <td>...</td>\n",
       "      <td>...</td>\n",
       "      <td>...</td>\n",
       "      <td>...</td>\n",
       "      <td>...</td>\n",
       "      <td>...</td>\n",
       "      <td>...</td>\n",
       "      <td>...</td>\n",
       "      <td>...</td>\n",
       "      <td>...</td>\n",
       "      <td>...</td>\n",
       "    </tr>\n",
       "    <tr>\n",
       "      <th>12660</th>\n",
       "      <td>2080.0</td>\n",
       "      <td>186</td>\n",
       "      <td>22</td>\n",
       "      <td>62</td>\n",
       "      <td>8</td>\n",
       "      <td>2.854004</td>\n",
       "      <td>-0.962452</td>\n",
       "      <td>17.059114</td>\n",
       "      <td>4.000153</td>\n",
       "      <td>3.820955</td>\n",
       "      <td>10.108066</td>\n",
       "      <td>6.809057</td>\n",
       "      <td>3.321869</td>\n",
       "      <td>10.187482</td>\n",
       "    </tr>\n",
       "    <tr>\n",
       "      <th>12661</th>\n",
       "      <td>2080.0</td>\n",
       "      <td>188</td>\n",
       "      <td>121</td>\n",
       "      <td>63</td>\n",
       "      <td>41</td>\n",
       "      <td>2.651981</td>\n",
       "      <td>-0.721698</td>\n",
       "      <td>6.457768</td>\n",
       "      <td>7.453314</td>\n",
       "      <td>4.314899</td>\n",
       "      <td>6.187206</td>\n",
       "      <td>8.047718</td>\n",
       "      <td>4.388724</td>\n",
       "      <td>3.603752</td>\n",
       "    </tr>\n",
       "    <tr>\n",
       "      <th>12662</th>\n",
       "      <td>2080.0</td>\n",
       "      <td>189</td>\n",
       "      <td>142</td>\n",
       "      <td>63</td>\n",
       "      <td>48</td>\n",
       "      <td>2.768475</td>\n",
       "      <td>-0.854212</td>\n",
       "      <td>11.012598</td>\n",
       "      <td>7.453314</td>\n",
       "      <td>4.314899</td>\n",
       "      <td>6.187206</td>\n",
       "      <td>9.163578</td>\n",
       "      <td>6.277434</td>\n",
       "      <td>7.129496</td>\n",
       "    </tr>\n",
       "    <tr>\n",
       "      <th>12663</th>\n",
       "      <td>2080.0</td>\n",
       "      <td>191</td>\n",
       "      <td>97</td>\n",
       "      <td>64</td>\n",
       "      <td>33</td>\n",
       "      <td>3.119361</td>\n",
       "      <td>-1.346071</td>\n",
       "      <td>24.715961</td>\n",
       "      <td>4.749794</td>\n",
       "      <td>1.608743</td>\n",
       "      <td>7.019255</td>\n",
       "      <td>2.583029</td>\n",
       "      <td>12.044830</td>\n",
       "      <td>5.970620</td>\n",
       "    </tr>\n",
       "    <tr>\n",
       "      <th>12664</th>\n",
       "      <td>2080.0</td>\n",
       "      <td>192</td>\n",
       "      <td>154</td>\n",
       "      <td>64</td>\n",
       "      <td>52</td>\n",
       "      <td>2.787245</td>\n",
       "      <td>-0.878734</td>\n",
       "      <td>8.957541</td>\n",
       "      <td>4.749794</td>\n",
       "      <td>1.608743</td>\n",
       "      <td>7.019255</td>\n",
       "      <td>4.722881</td>\n",
       "      <td>4.384976</td>\n",
       "      <td>6.773207</td>\n",
       "    </tr>\n",
       "  </tbody>\n",
       "</table>\n",
       "<p>12665 rows × 14 columns</p>\n",
       "</div>"
      ],
      "text/plain": [
       "         Time  Donor atom ID  Acceptor atom ID  Donor molecule ID  \\\n",
       "0         0.0              2                58                  1   \n",
       "1         0.0              6                73                  2   \n",
       "2         0.0              8               175                  3   \n",
       "3         0.0              9               172                  3   \n",
       "4         0.0             12                40                  4   \n",
       "...       ...            ...               ...                ...   \n",
       "12660  2080.0            186                22                 62   \n",
       "12661  2080.0            188               121                 63   \n",
       "12662  2080.0            189               142                 63   \n",
       "12663  2080.0            191                97                 64   \n",
       "12664  2080.0            192               154                 64   \n",
       "\n",
       "       Acceptor molecule ID  Distance between oxygens  Delta distance  \\\n",
       "0                        20                  2.925670       -1.064862   \n",
       "1                        25                  3.188257       -1.326750   \n",
       "2                        59                  2.971091       -1.170935   \n",
       "3                        58                  2.812382       -0.873001   \n",
       "4                        14                  3.207564       -1.431083   \n",
       "...                     ...                       ...             ...   \n",
       "12660                     8                  2.854004       -0.962452   \n",
       "12661                    41                  2.651981       -0.721698   \n",
       "12662                    48                  2.768475       -0.854212   \n",
       "12663                    33                  3.119361       -1.346071   \n",
       "12664                    52                  2.787245       -0.878734   \n",
       "\n",
       "       angle OOH  Donor molecule x  Donor molecule y  Donor molecule z  \\\n",
       "0      20.899380          9.089000          6.305000         10.411000   \n",
       "1      13.919250         11.734000          6.869000          5.944000   \n",
       "2      27.177565         10.911000          2.871000          4.272000   \n",
       "3       4.985427         10.911000          2.871000          4.272000   \n",
       "4      28.880138          6.946000          4.253000          5.745000   \n",
       "...          ...               ...               ...               ...   \n",
       "12660  17.059114          4.000153          3.820955         10.108066   \n",
       "12661   6.457768          7.453314          4.314899          6.187206   \n",
       "12662  11.012598          7.453314          4.314899          6.187206   \n",
       "12663  24.715961          4.749794          1.608743          7.019255   \n",
       "12664   8.957541          4.749794          1.608743          7.019255   \n",
       "\n",
       "       Acceptor molecule x  Acceptor molecule y  Acceptor molecule z  \n",
       "0                10.438000             3.877000             9.492000  \n",
       "1                 8.878000             6.174000             4.709000  \n",
       "2                12.339000             1.281000             6.336000  \n",
       "3                 9.420000             3.443000             6.587000  \n",
       "4                 7.082000             5.819000             2.949000  \n",
       "...                    ...                  ...                  ...  \n",
       "12660             6.809057             3.321869            10.187482  \n",
       "12661             8.047718             4.388724             3.603752  \n",
       "12662             9.163578             6.277434             7.129496  \n",
       "12663             2.583029            12.044830             5.970620  \n",
       "12664             4.722881             4.384976             6.773207  \n",
       "\n",
       "[12665 rows x 14 columns]"
      ]
     },
     "execution_count": 4,
     "metadata": {},
     "output_type": "execute_result"
    },
    {
     "data": {
      "application/javascript": [
       "\n",
       "            setTimeout(function() {\n",
       "                var nbb_cell_id = 4;\n",
       "                var nbb_unformatted_code = \"# results are accessible like this:\\nsimulation.hydrogen_bonding[0].dataframe\";\n",
       "                var nbb_formatted_code = \"# results are accessible like this:\\nsimulation.hydrogen_bonding[0].dataframe\";\n",
       "                var nbb_cells = Jupyter.notebook.get_cells();\n",
       "                for (var i = 0; i < nbb_cells.length; ++i) {\n",
       "                    if (nbb_cells[i].input_prompt_number == nbb_cell_id) {\n",
       "                        if (nbb_cells[i].get_text() == nbb_unformatted_code) {\n",
       "                             nbb_cells[i].set_text(nbb_formatted_code);\n",
       "                        }\n",
       "                        break;\n",
       "                    }\n",
       "                }\n",
       "            }, 500);\n",
       "            "
      ],
      "text/plain": [
       "<IPython.core.display.Javascript object>"
      ]
     },
     "metadata": {},
     "output_type": "display_data"
    }
   ],
   "source": [
    "# results are accessible like this:\n",
    "simulation.hydrogen_bonding[0].dataframe"
   ]
  },
  {
   "cell_type": "markdown",
   "metadata": {},
   "source": [
    "## Stand-alone"
   ]
  },
  {
   "cell_type": "code",
   "execution_count": 12,
   "metadata": {},
   "outputs": [
    {
     "name": "stderr",
     "output_type": "stream",
     "text": [
      "/Users/fthiemann/.pyenv/versions/3.9.1/lib/python3.9/site-packages/MDAnalysis/topology/base.py:203: DeprecationWarning: `np.int` is a deprecated alias for the builtin `int`. To silence this warning, use `int` by itself. Doing this will not modify any behavior and is safe. When replacing `np.int`, you may wish to use e.g. `np.int64` or `np.int32` to specify the precision. If you wish to review your current use, check the release note link for additional information.\n",
      "Deprecated in NumPy 1.20; for more details and guidance: https://numpy.org/devdocs/release/1.20.0-notes.html#deprecations\n",
      "  residx = np.zeros_like(criteria[0], dtype=np.int)\n",
      "/Users/fthiemann/.pyenv/versions/3.9.1/lib/python3.9/site-packages/MDAnalysis/core/selection.py:521: DeprecationWarning: `np.bool` is a deprecated alias for the builtin `bool`. To silence this warning, use `bool` by itself. Doing this will not modify any behavior and is safe. If you specifically wanted the numpy scalar type, use `np.bool_` here.\n",
      "Deprecated in NumPy 1.20; for more details and guidance: https://numpy.org/devdocs/release/1.20.0-notes.html#deprecations\n",
      "  mask = np.zeros(len(group), dtype=np.bool)\n"
     ]
    },
    {
     "data": {
      "application/vnd.jupyter.widget-view+json": {
       "model_id": "3ba6e8cd6c9149b29427cfb663c2a127",
       "version_major": 2,
       "version_minor": 0
      },
      "text/plain": [
       "  0%|          | 0/105 [00:00<?, ?it/s]"
      ]
     },
     "metadata": {},
     "output_type": "display_data"
    },
    {
     "name": "stderr",
     "output_type": "stream",
     "text": [
      "/Users/fthiemann/.pyenv/versions/3.9.1/lib/python3.9/site-packages/ase/utils/__init__.py:41: FutureWarning: Please use atoms.cell.cellpar() instead\n",
      "  warnings.warn(warning)\n"
     ]
    },
    {
     "data": {
      "application/javascript": [
       "\n",
       "            setTimeout(function() {\n",
       "                var nbb_cell_id = 12;\n",
       "                var nbb_unformatted_code = \"# define path to trajectory directory\\npath = \\\"../tests/files/bulk_water/classical\\\"\\n\\n# read in ASE object\\npdb_file = \\\"revPBE0-D3-w64-T300K-1bar.pdb\\\"\\npath_to_pdb = os.path.join(path, pdb_file)\\nase_atomsobject = io.read(path_to_pdb)\\n\\n# create MDAnalysis universe\\ndcd_file = \\\"WAT-E-pos-1.dcd\\\"\\npath_to_dcd = os.path.join(path, dcd_file)\\nmdanalysis_universe = mdanalysis.Universe(path_to_pdb, path_to_dcd)\\n\\n# setup instance of hydrogen bonding class\\nhydrogen_bonding_analysis = hydrogen_bonding.HydrogenBonding(\\n    mdanalysis_universe, ase_atomsobject\\n)\\n\\n# perform analysis\\n\\nhydrogen_bonding_analysis.find_acceptor_donor_pairs(\\n    start_frame=0,\\n    end_frame=-1,\\n    frame_frequency=1,\\n    time_between_frames=20,\\n    pbc_dimensions=\\\"xyz\\\",\\n)\";\n",
       "                var nbb_formatted_code = \"# define path to trajectory directory\\npath = \\\"../tests/files/bulk_water/classical\\\"\\n\\n# read in ASE object\\npdb_file = \\\"revPBE0-D3-w64-T300K-1bar.pdb\\\"\\npath_to_pdb = os.path.join(path, pdb_file)\\nase_atomsobject = io.read(path_to_pdb)\\n\\n# create MDAnalysis universe\\ndcd_file = \\\"WAT-E-pos-1.dcd\\\"\\npath_to_dcd = os.path.join(path, dcd_file)\\nmdanalysis_universe = mdanalysis.Universe(path_to_pdb, path_to_dcd)\\n\\n# setup instance of hydrogen bonding class\\nhydrogen_bonding_analysis = hydrogen_bonding.HydrogenBonding(\\n    mdanalysis_universe, ase_atomsobject\\n)\\n\\n# perform analysis\\n\\nhydrogen_bonding_analysis.find_acceptor_donor_pairs(\\n    start_frame=0,\\n    end_frame=-1,\\n    frame_frequency=1,\\n    time_between_frames=20,\\n    pbc_dimensions=\\\"xyz\\\",\\n)\";\n",
       "                var nbb_cells = Jupyter.notebook.get_cells();\n",
       "                for (var i = 0; i < nbb_cells.length; ++i) {\n",
       "                    if (nbb_cells[i].input_prompt_number == nbb_cell_id) {\n",
       "                        if (nbb_cells[i].get_text() == nbb_unformatted_code) {\n",
       "                             nbb_cells[i].set_text(nbb_formatted_code);\n",
       "                        }\n",
       "                        break;\n",
       "                    }\n",
       "                }\n",
       "            }, 500);\n",
       "            "
      ],
      "text/plain": [
       "<IPython.core.display.Javascript object>"
      ]
     },
     "metadata": {},
     "output_type": "display_data"
    }
   ],
   "source": [
    "# define path to trajectory directory\n",
    "path = \"../tests/files/bulk_water/classical\"\n",
    "\n",
    "# read in ASE object\n",
    "pdb_file = \"revPBE0-D3-w64-T300K-1bar.pdb\"\n",
    "path_to_pdb = os.path.join(path, pdb_file)\n",
    "ase_atomsobject = io.read(path_to_pdb)\n",
    "\n",
    "# create MDAnalysis universe\n",
    "dcd_file = \"WAT-E-pos-1.dcd\"\n",
    "path_to_dcd = os.path.join(path, dcd_file)\n",
    "mdanalysis_universe = mdanalysis.Universe(path_to_pdb, path_to_dcd)\n",
    "\n",
    "# setup instance of hydrogen bonding class\n",
    "hydrogen_bonding_analysis = hydrogen_bonding.HydrogenBonding(\n",
    "    mdanalysis_universe, ase_atomsobject\n",
    ")\n",
    "\n",
    "# perform analysis\n",
    "\n",
    "hydrogen_bonding_analysis.find_acceptor_donor_pairs(\n",
    "    start_frame=0,\n",
    "    end_frame=-1,\n",
    "    frame_frequency=1,\n",
    "    time_between_frames=20,\n",
    "    pbc_dimensions=\"xyz\",\n",
    ")"
   ]
  },
  {
   "cell_type": "code",
   "execution_count": 22,
   "metadata": {},
   "outputs": [
    {
     "data": {
      "text/plain": [
       "0           0.0\n",
       "1           0.0\n",
       "2           0.0\n",
       "3           0.0\n",
       "4           0.0\n",
       "          ...  \n",
       "12660    2080.0\n",
       "12661    2080.0\n",
       "12662    2080.0\n",
       "12663    2080.0\n",
       "12664    2080.0\n",
       "Name: Time, Length: 12665, dtype: float64"
      ]
     },
     "execution_count": 22,
     "metadata": {},
     "output_type": "execute_result"
    },
    {
     "data": {
      "application/javascript": [
       "\n",
       "            setTimeout(function() {\n",
       "                var nbb_cell_id = 22;\n",
       "                var nbb_unformatted_code = \"# results are accessible like this:\\nhydrogen_bonding_analysis.dataframe[\\\"Time\\\"]\";\n",
       "                var nbb_formatted_code = \"# results are accessible like this:\\nhydrogen_bonding_analysis.dataframe[\\\"Time\\\"]\";\n",
       "                var nbb_cells = Jupyter.notebook.get_cells();\n",
       "                for (var i = 0; i < nbb_cells.length; ++i) {\n",
       "                    if (nbb_cells[i].input_prompt_number == nbb_cell_id) {\n",
       "                        if (nbb_cells[i].get_text() == nbb_unformatted_code) {\n",
       "                             nbb_cells[i].set_text(nbb_formatted_code);\n",
       "                        }\n",
       "                        break;\n",
       "                    }\n",
       "                }\n",
       "            }, 500);\n",
       "            "
      ],
      "text/plain": [
       "<IPython.core.display.Javascript object>"
      ]
     },
     "metadata": {},
     "output_type": "display_data"
    }
   ],
   "source": [
    "# results are accessible like this:\n",
    "hydrogen_bonding_analysis.dataframe[\"Time\"]"
   ]
  }
 ],
 "metadata": {
  "kernelspec": {
   "display_name": "Python 3",
   "language": "python",
   "name": "python3"
  },
  "language_info": {
   "codemirror_mode": {
    "name": "ipython",
    "version": 3
   },
   "file_extension": ".py",
   "mimetype": "text/x-python",
   "name": "python",
   "nbconvert_exporter": "python",
   "pygments_lexer": "ipython3",
   "version": "3.9.1"
  }
 },
 "nbformat": 4,
 "nbformat_minor": 4
}
